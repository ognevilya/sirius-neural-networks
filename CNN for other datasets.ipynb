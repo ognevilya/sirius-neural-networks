{
 "cells": [
  {
   "cell_type": "code",
   "execution_count": 242,
   "metadata": {},
   "outputs": [],
   "source": [
    "import numpy as np\n",
    "from keras.preprocessing import image\n",
    "from keras.preprocessing.image import ImageDataGenerator\n",
    "from keras.models import Sequential\n",
    "from keras.layers import Conv2D, MaxPooling2D\n",
    "from keras.layers import Activation, Dropout, Flatten, Dense\n",
    "from IPython.display import Image"
   ]
  },
  {
   "cell_type": "code",
   "execution_count": 231,
   "metadata": {},
   "outputs": [],
   "source": [
    "train_dir = '/Users/ilyaognev/Downloads/numbers-master/train'\n",
    "\n",
    "val_dir = '/Users/ilyaognev/Downloads/numbers-master/val'\n",
    "\n",
    "test_dir = '/Users/ilyaognev/Downloads/numbers-master/test'\n",
    "\n",
    "img_width, img_height = 150, 150\n",
    "input_shape = (img_width, img_height, 3)\n",
    "\n",
    "epochs = 50\n",
    "batch_size = 32\n",
    "nb_train_samples = 1800\n",
    "nb_validation_samples = 880 \n",
    "nb_test_samples = 600"
   ]
  },
  {
   "cell_type": "code",
   "execution_count": 226,
   "metadata": {},
   "outputs": [],
   "source": [
    "model = Sequential()\n",
    "model.add(Conv2D(32, (3, 3), input_shape=input_shape))\n",
    "model.add(Activation('relu'))\n",
    "model.add(MaxPooling2D(pool_size=(2, 2)))\n",
    "\n",
    "model.add(Conv2D(32, (3, 3)))\n",
    "model.add(Activation('relu'))\n",
    "model.add(MaxPooling2D(pool_size=(2, 2)))\n",
    "\n",
    "model.add(Conv2D(64, (3, 3)))\n",
    "model.add(Activation('relu'))\n",
    "model.add(MaxPooling2D(pool_size=(2, 2)))\n",
    "\n",
    "model.add(Flatten())\n",
    "model.add(Dense(64))\n",
    "model.add(Activation('relu'))\n",
    "model.add(Dropout(0.5))\n",
    "model.add(Dense(10))\n",
    "model.add(Activation('sigmoid'))\n",
    "# print(model.summary())"
   ]
  },
  {
   "cell_type": "code",
   "execution_count": 227,
   "metadata": {},
   "outputs": [],
   "source": [
    "datagen = ImageDataGenerator(rescale=1. / 255)"
   ]
  },
  {
   "cell_type": "code",
   "execution_count": 221,
   "metadata": {},
   "outputs": [
    {
     "name": "stdout",
     "output_type": "stream",
     "text": [
      "Found 1800 images belonging to 10 classes.\n"
     ]
    }
   ],
   "source": [
    "train_generator = datagen.flow_from_directory(\n",
    "    train_dir,\n",
    "    target_size = (img_width, img_height),\n",
    "    batch_size = batch_size,\n",
    "    class_mode = 'categorical')"
   ]
  },
  {
   "cell_type": "code",
   "execution_count": 222,
   "metadata": {},
   "outputs": [
    {
     "name": "stdout",
     "output_type": "stream",
     "text": [
      "Found 880 images belonging to 10 classes.\n"
     ]
    }
   ],
   "source": [
    "val_generator = datagen.flow_from_directory(\n",
    "    val_dir,\n",
    "    target_size = (img_width, img_height),\n",
    "    batch_size = batch_size,\n",
    "    class_mode = 'categorical')"
   ]
  },
  {
   "cell_type": "code",
   "execution_count": 223,
   "metadata": {},
   "outputs": [
    {
     "name": "stdout",
     "output_type": "stream",
     "text": [
      "Found 600 images belonging to 10 classes.\n"
     ]
    }
   ],
   "source": [
    "test_generator = datagen.flow_from_directory(\n",
    "    test_dir,\n",
    "    target_size = (img_width, img_height),\n",
    "    batch_size = batch_size,\n",
    "    class_mode = 'categorical')"
   ]
  },
  {
   "cell_type": "code",
   "execution_count": 228,
   "metadata": {},
   "outputs": [],
   "source": [
    "model.compile(loss='categorical_crossentropy',\n",
    "              optimizer='adam',\n",
    "              metrics=['accuracy'])"
   ]
  },
  {
   "cell_type": "code",
   "execution_count": 232,
   "metadata": {
    "scrolled": false
   },
   "outputs": [
    {
     "name": "stdout",
     "output_type": "stream",
     "text": [
      "Epoch 1/50\n",
      "56/56 [==============================] - 43s - loss: 2.1786 - acc: 0.2177 - val_loss: 1.9679 - val_acc: 0.3384\n",
      "Epoch 2/50\n",
      "56/56 [==============================] - 42s - loss: 1.8509 - acc: 0.3866 - val_loss: 1.8204 - val_acc: 0.3785\n",
      "Epoch 3/50\n",
      "56/56 [==============================] - 46s - loss: 1.6161 - acc: 0.4470 - val_loss: 1.6866 - val_acc: 0.3880\n",
      "Epoch 4/50\n",
      "56/56 [==============================] - 47s - loss: 1.3716 - acc: 0.5446 - val_loss: 1.7204 - val_acc: 0.4245\n",
      "Epoch 5/50\n",
      "56/56 [==============================] - 48s - loss: 1.0930 - acc: 0.6300 - val_loss: 1.6545 - val_acc: 0.5224\n",
      "Epoch 6/50\n",
      "56/56 [==============================] - 45s - loss: 0.8785 - acc: 0.7019 - val_loss: 1.4977 - val_acc: 0.5672\n",
      "Epoch 7/50\n",
      "56/56 [==============================] - 45s - loss: 0.7264 - acc: 0.7717 - val_loss: 1.4991 - val_acc: 0.5743\n",
      "Epoch 8/50\n",
      "56/56 [==============================] - 49s - loss: 0.6680 - acc: 0.7757 - val_loss: 1.2240 - val_acc: 0.6521\n",
      "Epoch 9/50\n",
      "56/56 [==============================] - 47s - loss: 0.5385 - acc: 0.7985 - val_loss: 1.5572 - val_acc: 0.6073\n",
      "Epoch 10/50\n",
      "56/56 [==============================] - 45s - loss: 0.4625 - acc: 0.8471 - val_loss: 1.4450 - val_acc: 0.6439\n",
      "Epoch 11/50\n",
      "56/56 [==============================] - 44s - loss: 0.4254 - acc: 0.8371 - val_loss: 1.5811 - val_acc: 0.6392\n",
      "Epoch 12/50\n",
      "56/56 [==============================] - 45s - loss: 0.3707 - acc: 0.8817 - val_loss: 1.6917 - val_acc: 0.6509\n",
      "Epoch 13/50\n",
      "56/56 [==============================] - 44s - loss: 0.3538 - acc: 0.8750 - val_loss: 1.9805 - val_acc: 0.5896\n",
      "Epoch 14/50\n",
      "56/56 [==============================] - 41s - loss: 0.2999 - acc: 0.8878 - val_loss: 1.7443 - val_acc: 0.6462\n",
      "Epoch 15/50\n",
      "56/56 [==============================] - 42s - loss: 0.2844 - acc: 0.9018 - val_loss: 1.9307 - val_acc: 0.6309\n",
      "Epoch 16/50\n",
      "56/56 [==============================] - 45s - loss: 0.2521 - acc: 0.9057 - val_loss: 1.9460 - val_acc: 0.6722\n",
      "Epoch 17/50\n",
      "56/56 [==============================] - 44s - loss: 0.2637 - acc: 0.9135 - val_loss: 1.7979 - val_acc: 0.6663\n",
      "Epoch 18/50\n",
      "56/56 [==============================] - 45s - loss: 0.2274 - acc: 0.9102 - val_loss: 2.2587 - val_acc: 0.6309\n",
      "Epoch 19/50\n",
      "56/56 [==============================] - 43s - loss: 0.2263 - acc: 0.9135 - val_loss: 2.1363 - val_acc: 0.6380\n",
      "Epoch 20/50\n",
      "56/56 [==============================] - 42s - loss: 0.1999 - acc: 0.9246 - val_loss: 1.9623 - val_acc: 0.6686\n",
      "Epoch 21/50\n",
      "56/56 [==============================] - 44s - loss: 0.1810 - acc: 0.9364 - val_loss: 2.1420 - val_acc: 0.6439\n",
      "Epoch 22/50\n",
      "56/56 [==============================] - 48s - loss: 0.1912 - acc: 0.9230 - val_loss: 2.4675 - val_acc: 0.6474\n",
      "Epoch 23/50\n",
      "56/56 [==============================] - 45s - loss: 0.1782 - acc: 0.9319 - val_loss: 2.5058 - val_acc: 0.6644\n",
      "Epoch 24/50\n",
      "56/56 [==============================] - 42s - loss: 0.1720 - acc: 0.9403 - val_loss: 1.8070 - val_acc: 0.7134\n",
      "Epoch 25/50\n",
      "56/56 [==============================] - 41s - loss: 0.1674 - acc: 0.9397 - val_loss: 1.6552 - val_acc: 0.7229\n",
      "Epoch 26/50\n",
      "56/56 [==============================] - 41s - loss: 0.1645 - acc: 0.9459 - val_loss: 2.3897 - val_acc: 0.6769\n",
      "Epoch 27/50\n",
      "56/56 [==============================] - 41s - loss: 0.1395 - acc: 0.9526 - val_loss: 2.7886 - val_acc: 0.6604\n",
      "Epoch 28/50\n",
      "56/56 [==============================] - 42s - loss: 0.1641 - acc: 0.9447 - val_loss: 2.3515 - val_acc: 0.6792\n",
      "Epoch 29/50\n",
      "56/56 [==============================] - 41s - loss: 0.1268 - acc: 0.9542 - val_loss: 2.4289 - val_acc: 0.6946\n",
      "Epoch 30/50\n",
      "56/56 [==============================] - 42s - loss: 0.1385 - acc: 0.9470 - val_loss: 2.5226 - val_acc: 0.6840\n",
      "Epoch 31/50\n",
      "56/56 [==============================] - 42s - loss: 0.1379 - acc: 0.9498 - val_loss: 2.3462 - val_acc: 0.6828\n",
      "Epoch 32/50\n",
      "56/56 [==============================] - 43s - loss: 0.1587 - acc: 0.9370 - val_loss: 2.3330 - val_acc: 0.6958\n",
      "Epoch 33/50\n",
      "56/56 [==============================] - 44s - loss: 0.1307 - acc: 0.9504 - val_loss: 2.9071 - val_acc: 0.6651\n",
      "Epoch 34/50\n",
      "56/56 [==============================] - 46s - loss: 0.1279 - acc: 0.9543 - val_loss: 2.2665 - val_acc: 0.7040\n",
      "Epoch 35/50\n",
      "56/56 [==============================] - 45s - loss: 0.1148 - acc: 0.9581 - val_loss: 3.0781 - val_acc: 0.6368\n",
      "Epoch 36/50\n",
      "56/56 [==============================] - 45s - loss: 0.1086 - acc: 0.9615 - val_loss: 2.6227 - val_acc: 0.6792\n",
      "Epoch 37/50\n",
      "56/56 [==============================] - 41s - loss: 0.1041 - acc: 0.9604 - val_loss: 2.6943 - val_acc: 0.6816\n",
      "Epoch 38/50\n",
      "56/56 [==============================] - 41s - loss: 0.1056 - acc: 0.9620 - val_loss: 1.9659 - val_acc: 0.7134\n",
      "Epoch 39/50\n",
      "56/56 [==============================] - 41s - loss: 0.1200 - acc: 0.9571 - val_loss: 2.6346 - val_acc: 0.6686\n",
      "Epoch 40/50\n",
      "56/56 [==============================] - 41s - loss: 0.1107 - acc: 0.9565 - val_loss: 2.4131 - val_acc: 0.6557\n",
      "Epoch 41/50\n",
      "56/56 [==============================] - 42s - loss: 0.0961 - acc: 0.9615 - val_loss: 2.4825 - val_acc: 0.6887\n",
      "Epoch 42/50\n",
      "56/56 [==============================] - 43s - loss: 0.1155 - acc: 0.9520 - val_loss: 2.0921 - val_acc: 0.6934\n",
      "Epoch 43/50\n",
      "56/56 [==============================] - 42s - loss: 0.0840 - acc: 0.9715 - val_loss: 2.6367 - val_acc: 0.6875\n",
      "Epoch 44/50\n",
      "56/56 [==============================] - 42s - loss: 0.1208 - acc: 0.9554 - val_loss: 2.5550 - val_acc: 0.6675\n",
      "Epoch 45/50\n",
      "56/56 [==============================] - 41s - loss: 0.0914 - acc: 0.9682 - val_loss: 2.3830 - val_acc: 0.7123\n",
      "Epoch 46/50\n",
      "56/56 [==============================] - 42s - loss: 0.1018 - acc: 0.9665 - val_loss: 2.4576 - val_acc: 0.7040\n",
      "Epoch 47/50\n",
      "56/56 [==============================] - 41s - loss: 0.1115 - acc: 0.9565 - val_loss: 2.1746 - val_acc: 0.7099\n",
      "Epoch 48/50\n",
      "56/56 [==============================] - 41s - loss: 0.0944 - acc: 0.9598 - val_loss: 2.5892 - val_acc: 0.6757\n",
      "Epoch 49/50\n",
      "56/56 [==============================] - 41s - loss: 0.0990 - acc: 0.9570 - val_loss: 2.8249 - val_acc: 0.6568\n",
      "Epoch 50/50\n",
      "56/56 [==============================] - 41s - loss: 0.1015 - acc: 0.9643 - val_loss: 2.2726 - val_acc: 0.7005\n"
     ]
    },
    {
     "data": {
      "text/plain": [
       "<keras.callbacks.History at 0xd38fc20b8>"
      ]
     },
     "execution_count": 232,
     "metadata": {},
     "output_type": "execute_result"
    }
   ],
   "source": [
    "model.fit_generator(\n",
    "    train_generator,\n",
    "    steps_per_epoch=nb_train_samples // batch_size,\n",
    "    epochs=epochs,\n",
    "    validation_data=val_generator,\n",
    "    validation_steps=nb_validation_samples // batch_size)"
   ]
  },
  {
   "cell_type": "code",
   "execution_count": 236,
   "metadata": {},
   "outputs": [
    {
     "name": "stdout",
     "output_type": "stream",
     "text": [
      "Аккуратность на тестовых данных: 82.04%\n"
     ]
    }
   ],
   "source": [
    "scores = model.evaluate_generator(test_generator, nb_test_samples // batch_size)\n",
    "print(\"Аккуратность на тестовых данных: %.2f%%\" % (scores[1]*100))"
   ]
  },
  {
   "cell_type": "code",
   "execution_count": 270,
   "metadata": {},
   "outputs": [
    {
     "name": "stdout",
     "output_type": "stream",
     "text": [
      "0\n",
      "1\n",
      "2\n",
      "3\n",
      "4\n",
      "5\n",
      "6\n",
      "7\n",
      "8\n",
      "9\n"
     ]
    }
   ],
   "source": [
    "img_pathes = ['0.png', '1.png', '2.png', '3.png', '4.png', '5.png', '6.png', '7.png', '8.png', '9.png']\n",
    "img_path = '0.png'\n",
    "img_path1 = '1.png'\n",
    "\n",
    "for element in img_pathes:\n",
    "    img = image.load_img(element, target_size=(28, 28), grayscale=True)\n",
    "\n",
    "    x = image.img_to_array(img)\n",
    "    x = 255 - x\n",
    "    x /= 255\n",
    "    x = np.expand_dims(x, axis = 0)\n",
    "\n",
    "    prediction = loaded_model.predict(x)\n",
    "    print(np.argmax(prediction))   "
   ]
  }
 ],
 "metadata": {
  "kernelspec": {
   "display_name": "Python 3",
   "language": "python",
   "name": "python3"
  },
  "language_info": {
   "codemirror_mode": {
    "name": "ipython",
    "version": 3
   },
   "file_extension": ".py",
   "mimetype": "text/x-python",
   "name": "python",
   "nbconvert_exporter": "python",
   "pygments_lexer": "ipython3",
   "version": "3.7.0"
  }
 },
 "nbformat": 4,
 "nbformat_minor": 2
}
